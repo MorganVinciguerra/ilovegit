{
 "cells": [
  {
   "cell_type": "code",
   "execution_count": null,
   "id": "5f5b237a-dcd4-4b8c-878a-fc4033e056fb",
   "metadata": {},
   "outputs": [],
   "source": []
  }
 ],
 "metadata": {
  "kernelspec": {
   "display_name": "",
   "name": ""
  },
  "language_info": {
   "name": ""
  }
 },
 "nbformat": 4,
 "nbformat_minor": 5
}
